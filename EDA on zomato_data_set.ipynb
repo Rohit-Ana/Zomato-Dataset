{
 "cells": [
  {
   "cell_type": "code",
   "execution_count": 1,
   "id": "c5abeba8",
   "metadata": {},
   "outputs": [],
   "source": [
    "import numpy as np\n",
    "import pandas as pd\n",
    "import matplotlib.pyplot as plt\n",
    "import seaborn as sns\n",
    "%matplotlib inline"
   ]
  },
  {
   "cell_type": "code",
   "execution_count": 2,
   "id": "118c800b",
   "metadata": {},
   "outputs": [
    {
     "data": {
      "text/html": [
       "<div>\n",
       "<style scoped>\n",
       "    .dataframe tbody tr th:only-of-type {\n",
       "        vertical-align: middle;\n",
       "    }\n",
       "\n",
       "    .dataframe tbody tr th {\n",
       "        vertical-align: top;\n",
       "    }\n",
       "\n",
       "    .dataframe thead th {\n",
       "        text-align: right;\n",
       "    }\n",
       "</style>\n",
       "<table border=\"1\" class=\"dataframe\">\n",
       "  <thead>\n",
       "    <tr style=\"text-align: right;\">\n",
       "      <th></th>\n",
       "      <th>url</th>\n",
       "      <th>address</th>\n",
       "      <th>name</th>\n",
       "      <th>online_order</th>\n",
       "      <th>book_table</th>\n",
       "      <th>rate</th>\n",
       "      <th>votes</th>\n",
       "      <th>phone</th>\n",
       "      <th>location</th>\n",
       "      <th>rest_type</th>\n",
       "      <th>dish_liked</th>\n",
       "      <th>cuisines</th>\n",
       "      <th>approx_cost(for two people)</th>\n",
       "      <th>reviews_list</th>\n",
       "      <th>menu_item</th>\n",
       "      <th>listed_in(type)</th>\n",
       "      <th>listed_in(city)</th>\n",
       "    </tr>\n",
       "  </thead>\n",
       "  <tbody>\n",
       "    <tr>\n",
       "      <th>0</th>\n",
       "      <td>https://www.zomato.com/bangalore/jalsa-banasha...</td>\n",
       "      <td>942, 21st Main Road, 2nd Stage, Banashankari, ...</td>\n",
       "      <td>Jalsa</td>\n",
       "      <td>Yes</td>\n",
       "      <td>Yes</td>\n",
       "      <td>4.1/5</td>\n",
       "      <td>775</td>\n",
       "      <td>080 42297555\\r\\n+91 9743772233</td>\n",
       "      <td>Banashankari</td>\n",
       "      <td>Casual Dining</td>\n",
       "      <td>Pasta, Lunch Buffet, Masala Papad, Paneer Laja...</td>\n",
       "      <td>North Indian, Mughlai, Chinese</td>\n",
       "      <td>800</td>\n",
       "      <td>[('Rated 4.0', 'RATED\\n  A beautiful place to ...</td>\n",
       "      <td>[]</td>\n",
       "      <td>Buffet</td>\n",
       "      <td>Banashankari</td>\n",
       "    </tr>\n",
       "    <tr>\n",
       "      <th>1</th>\n",
       "      <td>https://www.zomato.com/bangalore/spice-elephan...</td>\n",
       "      <td>2nd Floor, 80 Feet Road, Near Big Bazaar, 6th ...</td>\n",
       "      <td>Spice Elephant</td>\n",
       "      <td>Yes</td>\n",
       "      <td>No</td>\n",
       "      <td>4.1/5</td>\n",
       "      <td>787</td>\n",
       "      <td>080 41714161</td>\n",
       "      <td>Banashankari</td>\n",
       "      <td>Casual Dining</td>\n",
       "      <td>Momos, Lunch Buffet, Chocolate Nirvana, Thai G...</td>\n",
       "      <td>Chinese, North Indian, Thai</td>\n",
       "      <td>800</td>\n",
       "      <td>[('Rated 4.0', 'RATED\\n  Had been here for din...</td>\n",
       "      <td>[]</td>\n",
       "      <td>Buffet</td>\n",
       "      <td>Banashankari</td>\n",
       "    </tr>\n",
       "    <tr>\n",
       "      <th>2</th>\n",
       "      <td>https://www.zomato.com/SanchurroBangalore?cont...</td>\n",
       "      <td>1112, Next to KIMS Medical College, 17th Cross...</td>\n",
       "      <td>San Churro Cafe</td>\n",
       "      <td>Yes</td>\n",
       "      <td>No</td>\n",
       "      <td>3.8/5</td>\n",
       "      <td>918</td>\n",
       "      <td>+91 9663487993</td>\n",
       "      <td>Banashankari</td>\n",
       "      <td>Cafe, Casual Dining</td>\n",
       "      <td>Churros, Cannelloni, Minestrone Soup, Hot Choc...</td>\n",
       "      <td>Cafe, Mexican, Italian</td>\n",
       "      <td>800</td>\n",
       "      <td>[('Rated 3.0', \"RATED\\n  Ambience is not that ...</td>\n",
       "      <td>[]</td>\n",
       "      <td>Buffet</td>\n",
       "      <td>Banashankari</td>\n",
       "    </tr>\n",
       "    <tr>\n",
       "      <th>3</th>\n",
       "      <td>https://www.zomato.com/bangalore/addhuri-udupi...</td>\n",
       "      <td>1st Floor, Annakuteera, 3rd Stage, Banashankar...</td>\n",
       "      <td>Addhuri Udupi Bhojana</td>\n",
       "      <td>No</td>\n",
       "      <td>No</td>\n",
       "      <td>3.7/5</td>\n",
       "      <td>88</td>\n",
       "      <td>+91 9620009302</td>\n",
       "      <td>Banashankari</td>\n",
       "      <td>Quick Bites</td>\n",
       "      <td>Masala Dosa</td>\n",
       "      <td>South Indian, North Indian</td>\n",
       "      <td>300</td>\n",
       "      <td>[('Rated 4.0', \"RATED\\n  Great food and proper...</td>\n",
       "      <td>[]</td>\n",
       "      <td>Buffet</td>\n",
       "      <td>Banashankari</td>\n",
       "    </tr>\n",
       "    <tr>\n",
       "      <th>4</th>\n",
       "      <td>https://www.zomato.com/bangalore/grand-village...</td>\n",
       "      <td>10, 3rd Floor, Lakshmi Associates, Gandhi Baza...</td>\n",
       "      <td>Grand Village</td>\n",
       "      <td>No</td>\n",
       "      <td>No</td>\n",
       "      <td>3.8/5</td>\n",
       "      <td>166</td>\n",
       "      <td>+91 8026612447\\r\\n+91 9901210005</td>\n",
       "      <td>Basavanagudi</td>\n",
       "      <td>Casual Dining</td>\n",
       "      <td>Panipuri, Gol Gappe</td>\n",
       "      <td>North Indian, Rajasthani</td>\n",
       "      <td>600</td>\n",
       "      <td>[('Rated 4.0', 'RATED\\n  Very good restaurant ...</td>\n",
       "      <td>[]</td>\n",
       "      <td>Buffet</td>\n",
       "      <td>Banashankari</td>\n",
       "    </tr>\n",
       "  </tbody>\n",
       "</table>\n",
       "</div>"
      ],
      "text/plain": [
       "                                                 url  \\\n",
       "0  https://www.zomato.com/bangalore/jalsa-banasha...   \n",
       "1  https://www.zomato.com/bangalore/spice-elephan...   \n",
       "2  https://www.zomato.com/SanchurroBangalore?cont...   \n",
       "3  https://www.zomato.com/bangalore/addhuri-udupi...   \n",
       "4  https://www.zomato.com/bangalore/grand-village...   \n",
       "\n",
       "                                             address                   name  \\\n",
       "0  942, 21st Main Road, 2nd Stage, Banashankari, ...                  Jalsa   \n",
       "1  2nd Floor, 80 Feet Road, Near Big Bazaar, 6th ...         Spice Elephant   \n",
       "2  1112, Next to KIMS Medical College, 17th Cross...        San Churro Cafe   \n",
       "3  1st Floor, Annakuteera, 3rd Stage, Banashankar...  Addhuri Udupi Bhojana   \n",
       "4  10, 3rd Floor, Lakshmi Associates, Gandhi Baza...          Grand Village   \n",
       "\n",
       "  online_order book_table   rate  votes                             phone  \\\n",
       "0          Yes        Yes  4.1/5    775    080 42297555\\r\\n+91 9743772233   \n",
       "1          Yes         No  4.1/5    787                      080 41714161   \n",
       "2          Yes         No  3.8/5    918                    +91 9663487993   \n",
       "3           No         No  3.7/5     88                    +91 9620009302   \n",
       "4           No         No  3.8/5    166  +91 8026612447\\r\\n+91 9901210005   \n",
       "\n",
       "       location            rest_type  \\\n",
       "0  Banashankari        Casual Dining   \n",
       "1  Banashankari        Casual Dining   \n",
       "2  Banashankari  Cafe, Casual Dining   \n",
       "3  Banashankari          Quick Bites   \n",
       "4  Basavanagudi        Casual Dining   \n",
       "\n",
       "                                          dish_liked  \\\n",
       "0  Pasta, Lunch Buffet, Masala Papad, Paneer Laja...   \n",
       "1  Momos, Lunch Buffet, Chocolate Nirvana, Thai G...   \n",
       "2  Churros, Cannelloni, Minestrone Soup, Hot Choc...   \n",
       "3                                        Masala Dosa   \n",
       "4                                Panipuri, Gol Gappe   \n",
       "\n",
       "                         cuisines approx_cost(for two people)  \\\n",
       "0  North Indian, Mughlai, Chinese                         800   \n",
       "1     Chinese, North Indian, Thai                         800   \n",
       "2          Cafe, Mexican, Italian                         800   \n",
       "3      South Indian, North Indian                         300   \n",
       "4        North Indian, Rajasthani                         600   \n",
       "\n",
       "                                        reviews_list menu_item  \\\n",
       "0  [('Rated 4.0', 'RATED\\n  A beautiful place to ...        []   \n",
       "1  [('Rated 4.0', 'RATED\\n  Had been here for din...        []   \n",
       "2  [('Rated 3.0', \"RATED\\n  Ambience is not that ...        []   \n",
       "3  [('Rated 4.0', \"RATED\\n  Great food and proper...        []   \n",
       "4  [('Rated 4.0', 'RATED\\n  Very good restaurant ...        []   \n",
       "\n",
       "  listed_in(type) listed_in(city)  \n",
       "0          Buffet    Banashankari  \n",
       "1          Buffet    Banashankari  \n",
       "2          Buffet    Banashankari  \n",
       "3          Buffet    Banashankari  \n",
       "4          Buffet    Banashankari  "
      ]
     },
     "execution_count": 2,
     "metadata": {},
     "output_type": "execute_result"
    }
   ],
   "source": [
    "df = pd.read_csv(r\"C:\\Users\\rohit\\Downloads\\zomato.csv.zip\")\n",
    "df.head()"
   ]
  },
  {
   "cell_type": "code",
   "execution_count": 3,
   "id": "3bc7f282",
   "metadata": {},
   "outputs": [
    {
     "data": {
      "text/plain": [
       "(51717, 17)"
      ]
     },
     "execution_count": 3,
     "metadata": {},
     "output_type": "execute_result"
    }
   ],
   "source": [
    "df.shape"
   ]
  },
  {
   "cell_type": "code",
   "execution_count": 4,
   "id": "f3195445",
   "metadata": {},
   "outputs": [
    {
     "name": "stdout",
     "output_type": "stream",
     "text": [
      "<class 'pandas.core.frame.DataFrame'>\n",
      "RangeIndex: 51717 entries, 0 to 51716\n",
      "Data columns (total 17 columns):\n",
      " #   Column                       Non-Null Count  Dtype \n",
      "---  ------                       --------------  ----- \n",
      " 0   url                          51717 non-null  object\n",
      " 1   address                      51717 non-null  object\n",
      " 2   name                         51717 non-null  object\n",
      " 3   online_order                 51717 non-null  object\n",
      " 4   book_table                   51717 non-null  object\n",
      " 5   rate                         43942 non-null  object\n",
      " 6   votes                        51717 non-null  int64 \n",
      " 7   phone                        50509 non-null  object\n",
      " 8   location                     51696 non-null  object\n",
      " 9   rest_type                    51490 non-null  object\n",
      " 10  dish_liked                   23639 non-null  object\n",
      " 11  cuisines                     51672 non-null  object\n",
      " 12  approx_cost(for two people)  51371 non-null  object\n",
      " 13  reviews_list                 51717 non-null  object\n",
      " 14  menu_item                    51717 non-null  object\n",
      " 15  listed_in(type)              51717 non-null  object\n",
      " 16  listed_in(city)              51717 non-null  object\n",
      "dtypes: int64(1), object(16)\n",
      "memory usage: 6.7+ MB\n"
     ]
    }
   ],
   "source": [
    "df.info()"
   ]
  },
  {
   "cell_type": "code",
   "execution_count": 5,
   "id": "5b79b2c4",
   "metadata": {},
   "outputs": [
    {
     "data": {
      "text/html": [
       "<div>\n",
       "<style scoped>\n",
       "    .dataframe tbody tr th:only-of-type {\n",
       "        vertical-align: middle;\n",
       "    }\n",
       "\n",
       "    .dataframe tbody tr th {\n",
       "        vertical-align: top;\n",
       "    }\n",
       "\n",
       "    .dataframe thead th {\n",
       "        text-align: right;\n",
       "    }\n",
       "</style>\n",
       "<table border=\"1\" class=\"dataframe\">\n",
       "  <thead>\n",
       "    <tr style=\"text-align: right;\">\n",
       "      <th></th>\n",
       "      <th>name</th>\n",
       "      <th>online_order</th>\n",
       "      <th>book_table</th>\n",
       "      <th>rate</th>\n",
       "      <th>votes</th>\n",
       "      <th>location</th>\n",
       "      <th>rest_type</th>\n",
       "      <th>cuisines</th>\n",
       "      <th>approx_cost(for two people)</th>\n",
       "      <th>listed_in(type)</th>\n",
       "      <th>listed_in(city)</th>\n",
       "    </tr>\n",
       "  </thead>\n",
       "  <tbody>\n",
       "    <tr>\n",
       "      <th>0</th>\n",
       "      <td>Jalsa</td>\n",
       "      <td>Yes</td>\n",
       "      <td>Yes</td>\n",
       "      <td>4.1/5</td>\n",
       "      <td>775</td>\n",
       "      <td>Banashankari</td>\n",
       "      <td>Casual Dining</td>\n",
       "      <td>North Indian, Mughlai, Chinese</td>\n",
       "      <td>800</td>\n",
       "      <td>Buffet</td>\n",
       "      <td>Banashankari</td>\n",
       "    </tr>\n",
       "    <tr>\n",
       "      <th>1</th>\n",
       "      <td>Spice Elephant</td>\n",
       "      <td>Yes</td>\n",
       "      <td>No</td>\n",
       "      <td>4.1/5</td>\n",
       "      <td>787</td>\n",
       "      <td>Banashankari</td>\n",
       "      <td>Casual Dining</td>\n",
       "      <td>Chinese, North Indian, Thai</td>\n",
       "      <td>800</td>\n",
       "      <td>Buffet</td>\n",
       "      <td>Banashankari</td>\n",
       "    </tr>\n",
       "    <tr>\n",
       "      <th>2</th>\n",
       "      <td>San Churro Cafe</td>\n",
       "      <td>Yes</td>\n",
       "      <td>No</td>\n",
       "      <td>3.8/5</td>\n",
       "      <td>918</td>\n",
       "      <td>Banashankari</td>\n",
       "      <td>Cafe, Casual Dining</td>\n",
       "      <td>Cafe, Mexican, Italian</td>\n",
       "      <td>800</td>\n",
       "      <td>Buffet</td>\n",
       "      <td>Banashankari</td>\n",
       "    </tr>\n",
       "    <tr>\n",
       "      <th>3</th>\n",
       "      <td>Addhuri Udupi Bhojana</td>\n",
       "      <td>No</td>\n",
       "      <td>No</td>\n",
       "      <td>3.7/5</td>\n",
       "      <td>88</td>\n",
       "      <td>Banashankari</td>\n",
       "      <td>Quick Bites</td>\n",
       "      <td>South Indian, North Indian</td>\n",
       "      <td>300</td>\n",
       "      <td>Buffet</td>\n",
       "      <td>Banashankari</td>\n",
       "    </tr>\n",
       "    <tr>\n",
       "      <th>4</th>\n",
       "      <td>Grand Village</td>\n",
       "      <td>No</td>\n",
       "      <td>No</td>\n",
       "      <td>3.8/5</td>\n",
       "      <td>166</td>\n",
       "      <td>Basavanagudi</td>\n",
       "      <td>Casual Dining</td>\n",
       "      <td>North Indian, Rajasthani</td>\n",
       "      <td>600</td>\n",
       "      <td>Buffet</td>\n",
       "      <td>Banashankari</td>\n",
       "    </tr>\n",
       "  </tbody>\n",
       "</table>\n",
       "</div>"
      ],
      "text/plain": [
       "                    name online_order book_table   rate  votes      location  \\\n",
       "0                  Jalsa          Yes        Yes  4.1/5    775  Banashankari   \n",
       "1         Spice Elephant          Yes         No  4.1/5    787  Banashankari   \n",
       "2        San Churro Cafe          Yes         No  3.8/5    918  Banashankari   \n",
       "3  Addhuri Udupi Bhojana           No         No  3.7/5     88  Banashankari   \n",
       "4          Grand Village           No         No  3.8/5    166  Basavanagudi   \n",
       "\n",
       "             rest_type                        cuisines  \\\n",
       "0        Casual Dining  North Indian, Mughlai, Chinese   \n",
       "1        Casual Dining     Chinese, North Indian, Thai   \n",
       "2  Cafe, Casual Dining          Cafe, Mexican, Italian   \n",
       "3          Quick Bites      South Indian, North Indian   \n",
       "4        Casual Dining        North Indian, Rajasthani   \n",
       "\n",
       "  approx_cost(for two people) listed_in(type) listed_in(city)  \n",
       "0                         800          Buffet    Banashankari  \n",
       "1                         800          Buffet    Banashankari  \n",
       "2                         800          Buffet    Banashankari  \n",
       "3                         300          Buffet    Banashankari  \n",
       "4                         600          Buffet    Banashankari  "
      ]
     },
     "execution_count": 5,
     "metadata": {},
     "output_type": "execute_result"
    }
   ],
   "source": [
    "df=df.drop(['url','address','phone','menu_item','dish_liked','reviews_list'],axis=1)\n",
    "df.head()"
   ]
  },
  {
   "cell_type": "code",
   "execution_count": 6,
   "id": "a3c53480",
   "metadata": {},
   "outputs": [
    {
     "name": "stdout",
     "output_type": "stream",
     "text": [
      "<class 'pandas.core.frame.DataFrame'>\n",
      "RangeIndex: 51717 entries, 0 to 51716\n",
      "Data columns (total 11 columns):\n",
      " #   Column                       Non-Null Count  Dtype \n",
      "---  ------                       --------------  ----- \n",
      " 0   name                         51717 non-null  object\n",
      " 1   online_order                 51717 non-null  object\n",
      " 2   book_table                   51717 non-null  object\n",
      " 3   rate                         43942 non-null  object\n",
      " 4   votes                        51717 non-null  int64 \n",
      " 5   location                     51696 non-null  object\n",
      " 6   rest_type                    51490 non-null  object\n",
      " 7   cuisines                     51672 non-null  object\n",
      " 8   approx_cost(for two people)  51371 non-null  object\n",
      " 9   listed_in(type)              51717 non-null  object\n",
      " 10  listed_in(city)              51717 non-null  object\n",
      "dtypes: int64(1), object(10)\n",
      "memory usage: 4.3+ MB\n"
     ]
    }
   ],
   "source": [
    "df.info()"
   ]
  },
  {
   "cell_type": "markdown",
   "id": "ec45fe35",
   "metadata": {},
   "source": [
    "Dropping Duplicates"
   ]
  },
  {
   "cell_type": "code",
   "execution_count": 7,
   "id": "f1792e24",
   "metadata": {},
   "outputs": [
    {
     "data": {
      "text/plain": [
       "(51609, 11)"
      ]
     },
     "execution_count": 7,
     "metadata": {},
     "output_type": "execute_result"
    }
   ],
   "source": [
    "df.drop_duplicates(inplace = True)\n",
    "df.shape"
   ]
  },
  {
   "cell_type": "code",
   "execution_count": 8,
   "id": "ab2703d8",
   "metadata": {},
   "outputs": [
    {
     "data": {
      "text/plain": [
       "array(['4.1/5', '3.8/5', '3.7/5', '3.6/5', '4.6/5', '4.0/5', '4.2/5',\n",
       "       '3.9/5', '3.1/5', '3.0/5', '3.2/5', '3.3/5', '2.8/5', '4.4/5',\n",
       "       '4.3/5', 'NEW', '2.9/5', '3.5/5', nan, '2.6/5', '3.8 /5', '3.4/5',\n",
       "       '4.5/5', '2.5/5', '2.7/5', '4.7/5', '2.4/5', '2.2/5', '2.3/5',\n",
       "       '3.4 /5', '-', '3.6 /5', '4.8/5', '3.9 /5', '4.2 /5', '4.0 /5',\n",
       "       '4.1 /5', '3.7 /5', '3.1 /5', '2.9 /5', '3.3 /5', '2.8 /5',\n",
       "       '3.5 /5', '2.7 /5', '2.5 /5', '3.2 /5', '2.6 /5', '4.5 /5',\n",
       "       '4.3 /5', '4.4 /5', '4.9/5', '2.1/5', '2.0/5', '1.8/5', '4.6 /5',\n",
       "       '4.9 /5', '3.0 /5', '4.8 /5', '2.3 /5', '4.7 /5', '2.4 /5',\n",
       "       '2.1 /5', '2.2 /5', '2.0 /5', '1.8 /5'], dtype=object)"
      ]
     },
     "execution_count": 8,
     "metadata": {},
     "output_type": "execute_result"
    }
   ],
   "source": [
    "df['rate'].unique()"
   ]
  },
  {
   "cell_type": "markdown",
   "id": "464c1c7d",
   "metadata": {},
   "source": [
    "convert into float in rate column"
   ]
  },
  {
   "cell_type": "code",
   "execution_count": 9,
   "id": "56ac75e9",
   "metadata": {},
   "outputs": [],
   "source": [
    "def rate(value):\n",
    "    if(value=='NEW'or value=='-'):\n",
    "        return np.nan\n",
    "    else:\n",
    "        value = str(value).split('/')\n",
    "        value= value[0]\n",
    "        return float(value)"
   ]
  },
  {
   "cell_type": "code",
   "execution_count": 10,
   "id": "3be2b13b",
   "metadata": {},
   "outputs": [
    {
     "data": {
      "text/plain": [
       "0    4.1\n",
       "1    4.1\n",
       "2    3.8\n",
       "3    3.7\n",
       "4    3.8\n",
       "Name: rate, dtype: float64"
      ]
     },
     "execution_count": 10,
     "metadata": {},
     "output_type": "execute_result"
    }
   ],
   "source": [
    "df['rate']= df['rate'].apply(rate)\n",
    "df['rate'].head()"
   ]
  },
  {
   "cell_type": "code",
   "execution_count": 11,
   "id": "5107a254",
   "metadata": {},
   "outputs": [
    {
     "data": {
      "text/plain": [
       "10019"
      ]
     },
     "execution_count": 11,
     "metadata": {},
     "output_type": "execute_result"
    }
   ],
   "source": [
    "df.rate.isnull().sum()"
   ]
  },
  {
   "cell_type": "markdown",
   "id": "0f236482",
   "metadata": {},
   "source": [
    "we have to fill null values with mean"
   ]
  },
  {
   "cell_type": "code",
   "execution_count": 12,
   "id": "65d74db7",
   "metadata": {},
   "outputs": [
    {
     "data": {
      "text/plain": [
       "0"
      ]
     },
     "execution_count": 12,
     "metadata": {},
     "output_type": "execute_result"
    }
   ],
   "source": [
    "df['rate'].fillna(df['rate'].mean(),inplace = True)\n",
    "df['rate'].isnull().sum()"
   ]
  },
  {
   "cell_type": "code",
   "execution_count": 13,
   "id": "8bfeaf83",
   "metadata": {},
   "outputs": [
    {
     "name": "stdout",
     "output_type": "stream",
     "text": [
      "<class 'pandas.core.frame.DataFrame'>\n",
      "Int64Index: 51609 entries, 0 to 51716\n",
      "Data columns (total 11 columns):\n",
      " #   Column                       Non-Null Count  Dtype  \n",
      "---  ------                       --------------  -----  \n",
      " 0   name                         51609 non-null  object \n",
      " 1   online_order                 51609 non-null  object \n",
      " 2   book_table                   51609 non-null  object \n",
      " 3   rate                         51609 non-null  float64\n",
      " 4   votes                        51609 non-null  int64  \n",
      " 5   location                     51588 non-null  object \n",
      " 6   rest_type                    51382 non-null  object \n",
      " 7   cuisines                     51564 non-null  object \n",
      " 8   approx_cost(for two people)  51265 non-null  object \n",
      " 9   listed_in(type)              51609 non-null  object \n",
      " 10  listed_in(city)              51609 non-null  object \n",
      "dtypes: float64(1), int64(1), object(9)\n",
      "memory usage: 4.7+ MB\n"
     ]
    }
   ],
   "source": [
    "df.info()"
   ]
  },
  {
   "cell_type": "markdown",
   "id": "ca56e349",
   "metadata": {},
   "source": [
    "As there is not much null values in columns so we can drop it"
   ]
  },
  {
   "cell_type": "code",
   "execution_count": 14,
   "id": "08b30d75",
   "metadata": {},
   "outputs": [
    {
     "data": {
      "text/html": [
       "<div>\n",
       "<style scoped>\n",
       "    .dataframe tbody tr th:only-of-type {\n",
       "        vertical-align: middle;\n",
       "    }\n",
       "\n",
       "    .dataframe tbody tr th {\n",
       "        vertical-align: top;\n",
       "    }\n",
       "\n",
       "    .dataframe thead th {\n",
       "        text-align: right;\n",
       "    }\n",
       "</style>\n",
       "<table border=\"1\" class=\"dataframe\">\n",
       "  <thead>\n",
       "    <tr style=\"text-align: right;\">\n",
       "      <th></th>\n",
       "      <th>name</th>\n",
       "      <th>online_order</th>\n",
       "      <th>book_table</th>\n",
       "      <th>rate</th>\n",
       "      <th>votes</th>\n",
       "      <th>location</th>\n",
       "      <th>rest_type</th>\n",
       "      <th>cuisines</th>\n",
       "      <th>approx_cost(for two people)</th>\n",
       "      <th>listed_in(type)</th>\n",
       "      <th>listed_in(city)</th>\n",
       "    </tr>\n",
       "  </thead>\n",
       "  <tbody>\n",
       "    <tr>\n",
       "      <th>0</th>\n",
       "      <td>Jalsa</td>\n",
       "      <td>Yes</td>\n",
       "      <td>Yes</td>\n",
       "      <td>4.1</td>\n",
       "      <td>775</td>\n",
       "      <td>Banashankari</td>\n",
       "      <td>Casual Dining</td>\n",
       "      <td>North Indian, Mughlai, Chinese</td>\n",
       "      <td>800</td>\n",
       "      <td>Buffet</td>\n",
       "      <td>Banashankari</td>\n",
       "    </tr>\n",
       "    <tr>\n",
       "      <th>1</th>\n",
       "      <td>Spice Elephant</td>\n",
       "      <td>Yes</td>\n",
       "      <td>No</td>\n",
       "      <td>4.1</td>\n",
       "      <td>787</td>\n",
       "      <td>Banashankari</td>\n",
       "      <td>Casual Dining</td>\n",
       "      <td>Chinese, North Indian, Thai</td>\n",
       "      <td>800</td>\n",
       "      <td>Buffet</td>\n",
       "      <td>Banashankari</td>\n",
       "    </tr>\n",
       "    <tr>\n",
       "      <th>2</th>\n",
       "      <td>San Churro Cafe</td>\n",
       "      <td>Yes</td>\n",
       "      <td>No</td>\n",
       "      <td>3.8</td>\n",
       "      <td>918</td>\n",
       "      <td>Banashankari</td>\n",
       "      <td>Cafe, Casual Dining</td>\n",
       "      <td>Cafe, Mexican, Italian</td>\n",
       "      <td>800</td>\n",
       "      <td>Buffet</td>\n",
       "      <td>Banashankari</td>\n",
       "    </tr>\n",
       "    <tr>\n",
       "      <th>3</th>\n",
       "      <td>Addhuri Udupi Bhojana</td>\n",
       "      <td>No</td>\n",
       "      <td>No</td>\n",
       "      <td>3.7</td>\n",
       "      <td>88</td>\n",
       "      <td>Banashankari</td>\n",
       "      <td>Quick Bites</td>\n",
       "      <td>South Indian, North Indian</td>\n",
       "      <td>300</td>\n",
       "      <td>Buffet</td>\n",
       "      <td>Banashankari</td>\n",
       "    </tr>\n",
       "    <tr>\n",
       "      <th>4</th>\n",
       "      <td>Grand Village</td>\n",
       "      <td>No</td>\n",
       "      <td>No</td>\n",
       "      <td>3.8</td>\n",
       "      <td>166</td>\n",
       "      <td>Basavanagudi</td>\n",
       "      <td>Casual Dining</td>\n",
       "      <td>North Indian, Rajasthani</td>\n",
       "      <td>600</td>\n",
       "      <td>Buffet</td>\n",
       "      <td>Banashankari</td>\n",
       "    </tr>\n",
       "  </tbody>\n",
       "</table>\n",
       "</div>"
      ],
      "text/plain": [
       "                    name online_order book_table  rate  votes      location  \\\n",
       "0                  Jalsa          Yes        Yes   4.1    775  Banashankari   \n",
       "1         Spice Elephant          Yes         No   4.1    787  Banashankari   \n",
       "2        San Churro Cafe          Yes         No   3.8    918  Banashankari   \n",
       "3  Addhuri Udupi Bhojana           No         No   3.7     88  Banashankari   \n",
       "4          Grand Village           No         No   3.8    166  Basavanagudi   \n",
       "\n",
       "             rest_type                        cuisines  \\\n",
       "0        Casual Dining  North Indian, Mughlai, Chinese   \n",
       "1        Casual Dining     Chinese, North Indian, Thai   \n",
       "2  Cafe, Casual Dining          Cafe, Mexican, Italian   \n",
       "3          Quick Bites      South Indian, North Indian   \n",
       "4        Casual Dining        North Indian, Rajasthani   \n",
       "\n",
       "  approx_cost(for two people) listed_in(type) listed_in(city)  \n",
       "0                         800          Buffet    Banashankari  \n",
       "1                         800          Buffet    Banashankari  \n",
       "2                         800          Buffet    Banashankari  \n",
       "3                         300          Buffet    Banashankari  \n",
       "4                         600          Buffet    Banashankari  "
      ]
     },
     "execution_count": 14,
     "metadata": {},
     "output_type": "execute_result"
    }
   ],
   "source": [
    "df.dropna(inplace = True)\n",
    "df.head()"
   ]
  },
  {
   "cell_type": "code",
   "execution_count": 15,
   "id": "1990976d",
   "metadata": {},
   "outputs": [
    {
     "data": {
      "text/html": [
       "<div>\n",
       "<style scoped>\n",
       "    .dataframe tbody tr th:only-of-type {\n",
       "        vertical-align: middle;\n",
       "    }\n",
       "\n",
       "    .dataframe tbody tr th {\n",
       "        vertical-align: top;\n",
       "    }\n",
       "\n",
       "    .dataframe thead th {\n",
       "        text-align: right;\n",
       "    }\n",
       "</style>\n",
       "<table border=\"1\" class=\"dataframe\">\n",
       "  <thead>\n",
       "    <tr style=\"text-align: right;\">\n",
       "      <th></th>\n",
       "      <th>name</th>\n",
       "      <th>online_order</th>\n",
       "      <th>book_table</th>\n",
       "      <th>rate</th>\n",
       "      <th>votes</th>\n",
       "      <th>location</th>\n",
       "      <th>rest_type</th>\n",
       "      <th>cuisines</th>\n",
       "      <th>cost2plates</th>\n",
       "      <th>Type</th>\n",
       "      <th>listed_in(city)</th>\n",
       "    </tr>\n",
       "  </thead>\n",
       "  <tbody>\n",
       "    <tr>\n",
       "      <th>0</th>\n",
       "      <td>Jalsa</td>\n",
       "      <td>Yes</td>\n",
       "      <td>Yes</td>\n",
       "      <td>4.1</td>\n",
       "      <td>775</td>\n",
       "      <td>Banashankari</td>\n",
       "      <td>Casual Dining</td>\n",
       "      <td>North Indian, Mughlai, Chinese</td>\n",
       "      <td>800</td>\n",
       "      <td>Buffet</td>\n",
       "      <td>Banashankari</td>\n",
       "    </tr>\n",
       "    <tr>\n",
       "      <th>1</th>\n",
       "      <td>Spice Elephant</td>\n",
       "      <td>Yes</td>\n",
       "      <td>No</td>\n",
       "      <td>4.1</td>\n",
       "      <td>787</td>\n",
       "      <td>Banashankari</td>\n",
       "      <td>Casual Dining</td>\n",
       "      <td>Chinese, North Indian, Thai</td>\n",
       "      <td>800</td>\n",
       "      <td>Buffet</td>\n",
       "      <td>Banashankari</td>\n",
       "    </tr>\n",
       "    <tr>\n",
       "      <th>2</th>\n",
       "      <td>San Churro Cafe</td>\n",
       "      <td>Yes</td>\n",
       "      <td>No</td>\n",
       "      <td>3.8</td>\n",
       "      <td>918</td>\n",
       "      <td>Banashankari</td>\n",
       "      <td>Cafe, Casual Dining</td>\n",
       "      <td>Cafe, Mexican, Italian</td>\n",
       "      <td>800</td>\n",
       "      <td>Buffet</td>\n",
       "      <td>Banashankari</td>\n",
       "    </tr>\n",
       "    <tr>\n",
       "      <th>3</th>\n",
       "      <td>Addhuri Udupi Bhojana</td>\n",
       "      <td>No</td>\n",
       "      <td>No</td>\n",
       "      <td>3.7</td>\n",
       "      <td>88</td>\n",
       "      <td>Banashankari</td>\n",
       "      <td>Quick Bites</td>\n",
       "      <td>South Indian, North Indian</td>\n",
       "      <td>300</td>\n",
       "      <td>Buffet</td>\n",
       "      <td>Banashankari</td>\n",
       "    </tr>\n",
       "    <tr>\n",
       "      <th>4</th>\n",
       "      <td>Grand Village</td>\n",
       "      <td>No</td>\n",
       "      <td>No</td>\n",
       "      <td>3.8</td>\n",
       "      <td>166</td>\n",
       "      <td>Basavanagudi</td>\n",
       "      <td>Casual Dining</td>\n",
       "      <td>North Indian, Rajasthani</td>\n",
       "      <td>600</td>\n",
       "      <td>Buffet</td>\n",
       "      <td>Banashankari</td>\n",
       "    </tr>\n",
       "  </tbody>\n",
       "</table>\n",
       "</div>"
      ],
      "text/plain": [
       "                    name online_order book_table  rate  votes      location  \\\n",
       "0                  Jalsa          Yes        Yes   4.1    775  Banashankari   \n",
       "1         Spice Elephant          Yes         No   4.1    787  Banashankari   \n",
       "2        San Churro Cafe          Yes         No   3.8    918  Banashankari   \n",
       "3  Addhuri Udupi Bhojana           No         No   3.7     88  Banashankari   \n",
       "4          Grand Village           No         No   3.8    166  Basavanagudi   \n",
       "\n",
       "             rest_type                        cuisines cost2plates    Type  \\\n",
       "0        Casual Dining  North Indian, Mughlai, Chinese         800  Buffet   \n",
       "1        Casual Dining     Chinese, North Indian, Thai         800  Buffet   \n",
       "2  Cafe, Casual Dining          Cafe, Mexican, Italian         800  Buffet   \n",
       "3          Quick Bites      South Indian, North Indian         300  Buffet   \n",
       "4        Casual Dining        North Indian, Rajasthani         600  Buffet   \n",
       "\n",
       "  listed_in(city)  \n",
       "0    Banashankari  \n",
       "1    Banashankari  \n",
       "2    Banashankari  \n",
       "3    Banashankari  \n",
       "4    Banashankari  "
      ]
     },
     "execution_count": 15,
     "metadata": {},
     "output_type": "execute_result"
    }
   ],
   "source": [
    "df.rename(columns={'approx_cost(for two people)':'cost2plates','listed_in(type)':'Type'},inplace=True)\n",
    "df.head()"
   ]
  },
  {
   "cell_type": "code",
   "execution_count": 16,
   "id": "99ecb050",
   "metadata": {},
   "outputs": [
    {
     "data": {
      "text/html": [
       "<div>\n",
       "<style scoped>\n",
       "    .dataframe tbody tr th:only-of-type {\n",
       "        vertical-align: middle;\n",
       "    }\n",
       "\n",
       "    .dataframe tbody tr th {\n",
       "        vertical-align: top;\n",
       "    }\n",
       "\n",
       "    .dataframe thead th {\n",
       "        text-align: right;\n",
       "    }\n",
       "</style>\n",
       "<table border=\"1\" class=\"dataframe\">\n",
       "  <thead>\n",
       "    <tr style=\"text-align: right;\">\n",
       "      <th></th>\n",
       "      <th>name</th>\n",
       "      <th>online_order</th>\n",
       "      <th>book_table</th>\n",
       "      <th>rate</th>\n",
       "      <th>votes</th>\n",
       "      <th>location</th>\n",
       "      <th>rest_type</th>\n",
       "      <th>cuisines</th>\n",
       "      <th>cost2plates</th>\n",
       "      <th>Type</th>\n",
       "      <th>listed_in(city)</th>\n",
       "    </tr>\n",
       "  </thead>\n",
       "  <tbody>\n",
       "    <tr>\n",
       "      <th>0</th>\n",
       "      <td>Jalsa</td>\n",
       "      <td>Yes</td>\n",
       "      <td>Yes</td>\n",
       "      <td>4.100000</td>\n",
       "      <td>775</td>\n",
       "      <td>Banashankari</td>\n",
       "      <td>Casual Dining</td>\n",
       "      <td>North Indian, Mughlai, Chinese</td>\n",
       "      <td>800</td>\n",
       "      <td>Buffet</td>\n",
       "      <td>Banashankari</td>\n",
       "    </tr>\n",
       "    <tr>\n",
       "      <th>1</th>\n",
       "      <td>Spice Elephant</td>\n",
       "      <td>Yes</td>\n",
       "      <td>No</td>\n",
       "      <td>4.100000</td>\n",
       "      <td>787</td>\n",
       "      <td>Banashankari</td>\n",
       "      <td>Casual Dining</td>\n",
       "      <td>Chinese, North Indian, Thai</td>\n",
       "      <td>800</td>\n",
       "      <td>Buffet</td>\n",
       "      <td>Banashankari</td>\n",
       "    </tr>\n",
       "    <tr>\n",
       "      <th>2</th>\n",
       "      <td>San Churro Cafe</td>\n",
       "      <td>Yes</td>\n",
       "      <td>No</td>\n",
       "      <td>3.800000</td>\n",
       "      <td>918</td>\n",
       "      <td>Banashankari</td>\n",
       "      <td>Cafe, Casual Dining</td>\n",
       "      <td>Cafe, Mexican, Italian</td>\n",
       "      <td>800</td>\n",
       "      <td>Buffet</td>\n",
       "      <td>Banashankari</td>\n",
       "    </tr>\n",
       "    <tr>\n",
       "      <th>3</th>\n",
       "      <td>Addhuri Udupi Bhojana</td>\n",
       "      <td>No</td>\n",
       "      <td>No</td>\n",
       "      <td>3.700000</td>\n",
       "      <td>88</td>\n",
       "      <td>Banashankari</td>\n",
       "      <td>Quick Bites</td>\n",
       "      <td>South Indian, North Indian</td>\n",
       "      <td>300</td>\n",
       "      <td>Buffet</td>\n",
       "      <td>Banashankari</td>\n",
       "    </tr>\n",
       "    <tr>\n",
       "      <th>4</th>\n",
       "      <td>Grand Village</td>\n",
       "      <td>No</td>\n",
       "      <td>No</td>\n",
       "      <td>3.800000</td>\n",
       "      <td>166</td>\n",
       "      <td>Basavanagudi</td>\n",
       "      <td>Casual Dining</td>\n",
       "      <td>North Indian, Rajasthani</td>\n",
       "      <td>600</td>\n",
       "      <td>Buffet</td>\n",
       "      <td>Banashankari</td>\n",
       "    </tr>\n",
       "    <tr>\n",
       "      <th>...</th>\n",
       "      <td>...</td>\n",
       "      <td>...</td>\n",
       "      <td>...</td>\n",
       "      <td>...</td>\n",
       "      <td>...</td>\n",
       "      <td>...</td>\n",
       "      <td>...</td>\n",
       "      <td>...</td>\n",
       "      <td>...</td>\n",
       "      <td>...</td>\n",
       "      <td>...</td>\n",
       "    </tr>\n",
       "    <tr>\n",
       "      <th>51712</th>\n",
       "      <td>Best Brews - Four Points by Sheraton Bengaluru...</td>\n",
       "      <td>No</td>\n",
       "      <td>No</td>\n",
       "      <td>3.600000</td>\n",
       "      <td>27</td>\n",
       "      <td>Whitefield</td>\n",
       "      <td>Bar</td>\n",
       "      <td>Continental</td>\n",
       "      <td>1,500</td>\n",
       "      <td>Pubs and bars</td>\n",
       "      <td>Whitefield</td>\n",
       "    </tr>\n",
       "    <tr>\n",
       "      <th>51713</th>\n",
       "      <td>Vinod Bar And Restaurant</td>\n",
       "      <td>No</td>\n",
       "      <td>No</td>\n",
       "      <td>3.700142</td>\n",
       "      <td>0</td>\n",
       "      <td>Whitefield</td>\n",
       "      <td>Bar</td>\n",
       "      <td>Finger Food</td>\n",
       "      <td>600</td>\n",
       "      <td>Pubs and bars</td>\n",
       "      <td>Whitefield</td>\n",
       "    </tr>\n",
       "    <tr>\n",
       "      <th>51714</th>\n",
       "      <td>Plunge - Sheraton Grand Bengaluru Whitefield H...</td>\n",
       "      <td>No</td>\n",
       "      <td>No</td>\n",
       "      <td>3.700142</td>\n",
       "      <td>0</td>\n",
       "      <td>Whitefield</td>\n",
       "      <td>Bar</td>\n",
       "      <td>Finger Food</td>\n",
       "      <td>2,000</td>\n",
       "      <td>Pubs and bars</td>\n",
       "      <td>Whitefield</td>\n",
       "    </tr>\n",
       "    <tr>\n",
       "      <th>51715</th>\n",
       "      <td>Chime - Sheraton Grand Bengaluru Whitefield Ho...</td>\n",
       "      <td>No</td>\n",
       "      <td>Yes</td>\n",
       "      <td>4.300000</td>\n",
       "      <td>236</td>\n",
       "      <td>ITPL Main Road, Whitefield</td>\n",
       "      <td>Bar</td>\n",
       "      <td>Finger Food</td>\n",
       "      <td>2,500</td>\n",
       "      <td>Pubs and bars</td>\n",
       "      <td>Whitefield</td>\n",
       "    </tr>\n",
       "    <tr>\n",
       "      <th>51716</th>\n",
       "      <td>The Nest - The Den Bengaluru</td>\n",
       "      <td>No</td>\n",
       "      <td>No</td>\n",
       "      <td>3.400000</td>\n",
       "      <td>13</td>\n",
       "      <td>ITPL Main Road, Whitefield</td>\n",
       "      <td>Bar, Casual Dining</td>\n",
       "      <td>Finger Food, North Indian, Continental</td>\n",
       "      <td>1,500</td>\n",
       "      <td>Pubs and bars</td>\n",
       "      <td>Whitefield</td>\n",
       "    </tr>\n",
       "  </tbody>\n",
       "</table>\n",
       "<p>51042 rows × 11 columns</p>\n",
       "</div>"
      ],
      "text/plain": [
       "                                                    name online_order  \\\n",
       "0                                                  Jalsa          Yes   \n",
       "1                                         Spice Elephant          Yes   \n",
       "2                                        San Churro Cafe          Yes   \n",
       "3                                  Addhuri Udupi Bhojana           No   \n",
       "4                                          Grand Village           No   \n",
       "...                                                  ...          ...   \n",
       "51712  Best Brews - Four Points by Sheraton Bengaluru...           No   \n",
       "51713                           Vinod Bar And Restaurant           No   \n",
       "51714  Plunge - Sheraton Grand Bengaluru Whitefield H...           No   \n",
       "51715  Chime - Sheraton Grand Bengaluru Whitefield Ho...           No   \n",
       "51716                       The Nest - The Den Bengaluru           No   \n",
       "\n",
       "      book_table      rate  votes                    location  \\\n",
       "0            Yes  4.100000    775                Banashankari   \n",
       "1             No  4.100000    787                Banashankari   \n",
       "2             No  3.800000    918                Banashankari   \n",
       "3             No  3.700000     88                Banashankari   \n",
       "4             No  3.800000    166                Basavanagudi   \n",
       "...          ...       ...    ...                         ...   \n",
       "51712         No  3.600000     27                  Whitefield   \n",
       "51713         No  3.700142      0                  Whitefield   \n",
       "51714         No  3.700142      0                  Whitefield   \n",
       "51715        Yes  4.300000    236  ITPL Main Road, Whitefield   \n",
       "51716         No  3.400000     13  ITPL Main Road, Whitefield   \n",
       "\n",
       "                 rest_type                                cuisines  \\\n",
       "0            Casual Dining          North Indian, Mughlai, Chinese   \n",
       "1            Casual Dining             Chinese, North Indian, Thai   \n",
       "2      Cafe, Casual Dining                  Cafe, Mexican, Italian   \n",
       "3              Quick Bites              South Indian, North Indian   \n",
       "4            Casual Dining                North Indian, Rajasthani   \n",
       "...                    ...                                     ...   \n",
       "51712                  Bar                             Continental   \n",
       "51713                  Bar                             Finger Food   \n",
       "51714                  Bar                             Finger Food   \n",
       "51715                  Bar                             Finger Food   \n",
       "51716   Bar, Casual Dining  Finger Food, North Indian, Continental   \n",
       "\n",
       "      cost2plates           Type listed_in(city)  \n",
       "0             800         Buffet    Banashankari  \n",
       "1             800         Buffet    Banashankari  \n",
       "2             800         Buffet    Banashankari  \n",
       "3             300         Buffet    Banashankari  \n",
       "4             600         Buffet    Banashankari  \n",
       "...           ...            ...             ...  \n",
       "51712       1,500  Pubs and bars      Whitefield  \n",
       "51713         600  Pubs and bars      Whitefield  \n",
       "51714       2,000  Pubs and bars      Whitefield  \n",
       "51715       2,500  Pubs and bars      Whitefield  \n",
       "51716       1,500  Pubs and bars      Whitefield  \n",
       "\n",
       "[51042 rows x 11 columns]"
      ]
     },
     "execution_count": 16,
     "metadata": {},
     "output_type": "execute_result"
    }
   ],
   "source": [
    "df"
   ]
  },
  {
   "cell_type": "code",
   "execution_count": 17,
   "id": "b21d1ed6",
   "metadata": {},
   "outputs": [
    {
     "data": {
      "text/plain": [
       "array(['Banashankari', 'Basavanagudi', 'Mysore Road', 'Jayanagar',\n",
       "       'Kumaraswamy Layout', 'Rajarajeshwari Nagar', 'Vijay Nagar',\n",
       "       'Uttarahalli', 'JP Nagar', 'South Bangalore', 'City Market',\n",
       "       'Nagarbhavi', 'Bannerghatta Road', 'BTM', 'Kanakapura Road',\n",
       "       'Bommanahalli', 'CV Raman Nagar', 'Electronic City', 'HSR',\n",
       "       'Marathahalli', 'Wilson Garden', 'Shanti Nagar',\n",
       "       'Koramangala 5th Block', 'Koramangala 8th Block', 'Richmond Road',\n",
       "       'Koramangala 7th Block', 'Jalahalli', 'Koramangala 4th Block',\n",
       "       'Bellandur', 'Sarjapur Road', 'Whitefield', 'East Bangalore',\n",
       "       'Old Airport Road', 'Indiranagar', 'Koramangala 1st Block',\n",
       "       'Frazer Town', 'RT Nagar', 'MG Road', 'Brigade Road',\n",
       "       'Lavelle Road', 'Church Street', 'Ulsoor', 'Residency Road',\n",
       "       'Shivajinagar', 'Infantry Road', 'St. Marks Road',\n",
       "       'Cunningham Road', 'Race Course Road', 'Commercial Street',\n",
       "       'Vasanth Nagar', 'HBR Layout', 'Domlur', 'Ejipura',\n",
       "       'Jeevan Bhima Nagar', 'Old Madras Road', 'Malleshwaram',\n",
       "       'Seshadripuram', 'Kammanahalli', 'Koramangala 6th Block',\n",
       "       'Majestic', 'Langford Town', 'Central Bangalore', 'Sanjay Nagar',\n",
       "       'Brookefield', 'ITPL Main Road, Whitefield',\n",
       "       'Varthur Main Road, Whitefield', 'KR Puram',\n",
       "       'Koramangala 2nd Block', 'Koramangala 3rd Block', 'Koramangala',\n",
       "       'Hosur Road', 'Rajajinagar', 'Banaswadi', 'North Bangalore',\n",
       "       'Nagawara', 'Hennur', 'Kalyan Nagar', 'New BEL Road', 'Jakkur',\n",
       "       'Rammurthy Nagar', 'Thippasandra', 'Kaggadasapura', 'Hebbal',\n",
       "       'Kengeri', 'Sankey Road', 'Sadashiv Nagar', 'Basaveshwara Nagar',\n",
       "       'Yeshwantpur', 'West Bangalore', 'Magadi Road', 'Yelahanka',\n",
       "       'Sahakara Nagar', 'Peenya'], dtype=object)"
      ]
     },
     "execution_count": 17,
     "metadata": {},
     "output_type": "execute_result"
    }
   ],
   "source": [
    "df['location'].unique()"
   ]
  },
  {
   "cell_type": "code",
   "execution_count": 18,
   "id": "dc3c0f99",
   "metadata": {},
   "outputs": [
    {
     "data": {
      "text/plain": [
       "array(['Banashankari', 'Bannerghatta Road', 'Basavanagudi', 'Bellandur',\n",
       "       'Brigade Road', 'Brookefield', 'BTM', 'Church Street',\n",
       "       'Electronic City', 'Frazer Town', 'HSR', 'Indiranagar',\n",
       "       'Jayanagar', 'JP Nagar', 'Kalyan Nagar', 'Kammanahalli',\n",
       "       'Koramangala 4th Block', 'Koramangala 5th Block',\n",
       "       'Koramangala 6th Block', 'Koramangala 7th Block', 'Lavelle Road',\n",
       "       'Malleshwaram', 'Marathahalli', 'MG Road', 'New BEL Road',\n",
       "       'Old Airport Road', 'Rajajinagar', 'Residency Road',\n",
       "       'Sarjapur Road', 'Whitefield'], dtype=object)"
      ]
     },
     "execution_count": 18,
     "metadata": {},
     "output_type": "execute_result"
    }
   ],
   "source": [
    "df['listed_in(city)'].unique()"
   ]
  },
  {
   "cell_type": "markdown",
   "id": "fe2ce2a5",
   "metadata": {},
   "source": [
    "\tlisted_in(city) and location both are there ,let's keep only one"
   ]
  },
  {
   "cell_type": "code",
   "execution_count": 19,
   "id": "7ff1147b",
   "metadata": {},
   "outputs": [],
   "source": [
    " df=df.drop(['listed_in(city)'],axis=1)"
   ]
  },
  {
   "cell_type": "code",
   "execution_count": 20,
   "id": "c4aadcee",
   "metadata": {},
   "outputs": [
    {
     "data": {
      "text/plain": [
       "array(['800', '300', '600', '700', '550', '500', '450', '650', '400',\n",
       "       '900', '200', '750', '150', '850', '100', '1,200', '350', '250',\n",
       "       '950', '1,000', '1,500', '1,300', '199', '80', '1,100', '160',\n",
       "       '1,600', '230', '130', '50', '190', '1,700', '1,400', '180',\n",
       "       '1,350', '2,200', '2,000', '1,800', '1,900', '330', '2,500',\n",
       "       '2,100', '3,000', '2,800', '3,400', '40', '1,250', '3,500',\n",
       "       '4,000', '2,400', '2,600', '120', '1,450', '469', '70', '3,200',\n",
       "       '60', '560', '240', '360', '6,000', '1,050', '2,300', '4,100',\n",
       "       '5,000', '3,700', '1,650', '2,700', '4,500', '140'], dtype=object)"
      ]
     },
     "execution_count": 20,
     "metadata": {},
     "output_type": "execute_result"
    }
   ],
   "source": [
    "df['cost2plates'].unique()"
   ]
  },
  {
   "cell_type": "markdown",
   "id": "c4c6d897",
   "metadata": {},
   "source": [
    "convert strings into float/integers"
   ]
  },
  {
   "cell_type": "code",
   "execution_count": 21,
   "id": "8fd35995",
   "metadata": {},
   "outputs": [],
   "source": [
    "def comma(value):\n",
    "    value=str(value)\n",
    "    if ',' in value:\n",
    "        value= value.replace(',','')\n",
    "        return float(value)\n",
    "    else:\n",
    "        return float(value)"
   ]
  },
  {
   "cell_type": "code",
   "execution_count": 22,
   "id": "9a03ada5",
   "metadata": {},
   "outputs": [
    {
     "data": {
      "text/plain": [
       "array([ 800.,  300.,  600.,  700.,  550.,  500.,  450.,  650.,  400.,\n",
       "        900.,  200.,  750.,  150.,  850.,  100., 1200.,  350.,  250.,\n",
       "        950., 1000., 1500., 1300.,  199.,   80., 1100.,  160., 1600.,\n",
       "        230.,  130.,   50.,  190., 1700., 1400.,  180., 1350., 2200.,\n",
       "       2000., 1800., 1900.,  330., 2500., 2100., 3000., 2800., 3400.,\n",
       "         40., 1250., 3500., 4000., 2400., 2600.,  120., 1450.,  469.,\n",
       "         70., 3200.,   60.,  560.,  240.,  360., 6000., 1050., 2300.,\n",
       "       4100., 5000., 3700., 1650., 2700., 4500.,  140.])"
      ]
     },
     "execution_count": 22,
     "metadata": {},
     "output_type": "execute_result"
    }
   ],
   "source": [
    "df['cost2plates']= df['cost2plates'].apply(comma)\n",
    "df['cost2plates'].unique()"
   ]
  },
  {
   "cell_type": "code",
   "execution_count": 23,
   "id": "fe94a33f",
   "metadata": {},
   "outputs": [
    {
     "data": {
      "text/html": [
       "<div>\n",
       "<style scoped>\n",
       "    .dataframe tbody tr th:only-of-type {\n",
       "        vertical-align: middle;\n",
       "    }\n",
       "\n",
       "    .dataframe tbody tr th {\n",
       "        vertical-align: top;\n",
       "    }\n",
       "\n",
       "    .dataframe thead th {\n",
       "        text-align: right;\n",
       "    }\n",
       "</style>\n",
       "<table border=\"1\" class=\"dataframe\">\n",
       "  <thead>\n",
       "    <tr style=\"text-align: right;\">\n",
       "      <th></th>\n",
       "      <th>name</th>\n",
       "      <th>online_order</th>\n",
       "      <th>book_table</th>\n",
       "      <th>rate</th>\n",
       "      <th>votes</th>\n",
       "      <th>location</th>\n",
       "      <th>rest_type</th>\n",
       "      <th>cuisines</th>\n",
       "      <th>cost2plates</th>\n",
       "      <th>Type</th>\n",
       "    </tr>\n",
       "  </thead>\n",
       "  <tbody>\n",
       "    <tr>\n",
       "      <th>0</th>\n",
       "      <td>Jalsa</td>\n",
       "      <td>Yes</td>\n",
       "      <td>Yes</td>\n",
       "      <td>4.1</td>\n",
       "      <td>775</td>\n",
       "      <td>Banashankari</td>\n",
       "      <td>Casual Dining</td>\n",
       "      <td>North Indian, Mughlai, Chinese</td>\n",
       "      <td>800.0</td>\n",
       "      <td>Buffet</td>\n",
       "    </tr>\n",
       "    <tr>\n",
       "      <th>1</th>\n",
       "      <td>Spice Elephant</td>\n",
       "      <td>Yes</td>\n",
       "      <td>No</td>\n",
       "      <td>4.1</td>\n",
       "      <td>787</td>\n",
       "      <td>Banashankari</td>\n",
       "      <td>Casual Dining</td>\n",
       "      <td>Chinese, North Indian, Thai</td>\n",
       "      <td>800.0</td>\n",
       "      <td>Buffet</td>\n",
       "    </tr>\n",
       "    <tr>\n",
       "      <th>2</th>\n",
       "      <td>San Churro Cafe</td>\n",
       "      <td>Yes</td>\n",
       "      <td>No</td>\n",
       "      <td>3.8</td>\n",
       "      <td>918</td>\n",
       "      <td>Banashankari</td>\n",
       "      <td>Cafe, Casual Dining</td>\n",
       "      <td>Cafe, Mexican, Italian</td>\n",
       "      <td>800.0</td>\n",
       "      <td>Buffet</td>\n",
       "    </tr>\n",
       "    <tr>\n",
       "      <th>3</th>\n",
       "      <td>Addhuri Udupi Bhojana</td>\n",
       "      <td>No</td>\n",
       "      <td>No</td>\n",
       "      <td>3.7</td>\n",
       "      <td>88</td>\n",
       "      <td>Banashankari</td>\n",
       "      <td>Quick Bites</td>\n",
       "      <td>South Indian, North Indian</td>\n",
       "      <td>300.0</td>\n",
       "      <td>Buffet</td>\n",
       "    </tr>\n",
       "    <tr>\n",
       "      <th>4</th>\n",
       "      <td>Grand Village</td>\n",
       "      <td>No</td>\n",
       "      <td>No</td>\n",
       "      <td>3.8</td>\n",
       "      <td>166</td>\n",
       "      <td>Basavanagudi</td>\n",
       "      <td>Casual Dining</td>\n",
       "      <td>North Indian, Rajasthani</td>\n",
       "      <td>600.0</td>\n",
       "      <td>Buffet</td>\n",
       "    </tr>\n",
       "  </tbody>\n",
       "</table>\n",
       "</div>"
      ],
      "text/plain": [
       "                    name online_order book_table  rate  votes      location  \\\n",
       "0                  Jalsa          Yes        Yes   4.1    775  Banashankari   \n",
       "1         Spice Elephant          Yes         No   4.1    787  Banashankari   \n",
       "2        San Churro Cafe          Yes         No   3.8    918  Banashankari   \n",
       "3  Addhuri Udupi Bhojana           No         No   3.7     88  Banashankari   \n",
       "4          Grand Village           No         No   3.8    166  Basavanagudi   \n",
       "\n",
       "             rest_type                        cuisines  cost2plates    Type  \n",
       "0        Casual Dining  North Indian, Mughlai, Chinese        800.0  Buffet  \n",
       "1        Casual Dining     Chinese, North Indian, Thai        800.0  Buffet  \n",
       "2  Cafe, Casual Dining          Cafe, Mexican, Italian        800.0  Buffet  \n",
       "3          Quick Bites      South Indian, North Indian        300.0  Buffet  \n",
       "4        Casual Dining        North Indian, Rajasthani        600.0  Buffet  "
      ]
     },
     "execution_count": 23,
     "metadata": {},
     "output_type": "execute_result"
    }
   ],
   "source": [
    "df.head()"
   ]
  },
  {
   "cell_type": "code",
   "execution_count": 24,
   "id": "2daac74e",
   "metadata": {},
   "outputs": [
    {
     "data": {
      "text/plain": [
       "Quick Bites                   19010\n",
       "Casual Dining                 10253\n",
       "Cafe                           3682\n",
       "Delivery                       2574\n",
       "Dessert Parlor                 2242\n",
       "                              ...  \n",
       "Dessert Parlor, Kiosk             2\n",
       "Food Court, Beverage Shop         2\n",
       "Dessert Parlor, Food Court        2\n",
       "Quick Bites, Kiosk                1\n",
       "Sweet Shop, Dessert Parlor        1\n",
       "Name: rest_type, Length: 93, dtype: int64"
      ]
     },
     "execution_count": 24,
     "metadata": {},
     "output_type": "execute_result"
    }
   ],
   "source": [
    "df['rest_type'].value_counts()"
   ]
  },
  {
   "cell_type": "markdown",
   "id": "c897d1f4",
   "metadata": {},
   "source": [
    "I can make clusters which has very less number and named it others"
   ]
  },
  {
   "cell_type": "code",
   "execution_count": 25,
   "id": "ab082078",
   "metadata": {},
   "outputs": [],
   "source": [
    "rest_types= df['rest_type'].value_counts(ascending=False)"
   ]
  },
  {
   "cell_type": "code",
   "execution_count": 26,
   "id": "74edc385",
   "metadata": {},
   "outputs": [
    {
     "data": {
      "text/plain": [
       "Beverage Shop                 863\n",
       "Bar                           686\n",
       "Food Court                    616\n",
       "Sweet Shop                    468\n",
       "Bar, Casual Dining            411\n",
       "                             ... \n",
       "Dessert Parlor, Kiosk           2\n",
       "Food Court, Beverage Shop       2\n",
       "Dessert Parlor, Food Court      2\n",
       "Quick Bites, Kiosk              1\n",
       "Sweet Shop, Dessert Parlor      1\n",
       "Name: rest_type, Length: 85, dtype: int64"
      ]
     },
     "execution_count": 26,
     "metadata": {},
     "output_type": "execute_result"
    }
   ],
   "source": [
    "rest_type_lessthan1000 = rest_types[rest_types<1000]\n",
    "rest_type_lessthan1000"
   ]
  },
  {
   "cell_type": "code",
   "execution_count": 27,
   "id": "47053f21",
   "metadata": {},
   "outputs": [],
   "source": [
    "def rest_types(value):\n",
    "    if (value in rest_type_lessthan1000):\n",
    "        return 'others'\n",
    "    else:\n",
    "        return value"
   ]
  },
  {
   "cell_type": "code",
   "execution_count": 28,
   "id": "9a1b8b5c",
   "metadata": {},
   "outputs": [
    {
     "data": {
      "text/plain": [
       "Quick Bites           19010\n",
       "Casual Dining         10253\n",
       "others                 9003\n",
       "Cafe                   3682\n",
       "Delivery               2574\n",
       "Dessert Parlor         2242\n",
       "Takeaway, Delivery     2008\n",
       "Bakery                 1140\n",
       "Casual Dining, Bar     1130\n",
       "Name: rest_type, dtype: int64"
      ]
     },
     "execution_count": 28,
     "metadata": {},
     "output_type": "execute_result"
    }
   ],
   "source": [
    "df['rest_type']= df['rest_type'].apply(rest_types)\n",
    "df['rest_type'].value_counts()"
   ]
  },
  {
   "cell_type": "code",
   "execution_count": 29,
   "id": "fd18afb9",
   "metadata": {},
   "outputs": [
    {
     "data": {
      "text/html": [
       "<div>\n",
       "<style scoped>\n",
       "    .dataframe tbody tr th:only-of-type {\n",
       "        vertical-align: middle;\n",
       "    }\n",
       "\n",
       "    .dataframe tbody tr th {\n",
       "        vertical-align: top;\n",
       "    }\n",
       "\n",
       "    .dataframe thead th {\n",
       "        text-align: right;\n",
       "    }\n",
       "</style>\n",
       "<table border=\"1\" class=\"dataframe\">\n",
       "  <thead>\n",
       "    <tr style=\"text-align: right;\">\n",
       "      <th></th>\n",
       "      <th>name</th>\n",
       "      <th>online_order</th>\n",
       "      <th>book_table</th>\n",
       "      <th>rate</th>\n",
       "      <th>votes</th>\n",
       "      <th>location</th>\n",
       "      <th>rest_type</th>\n",
       "      <th>cuisines</th>\n",
       "      <th>cost2plates</th>\n",
       "      <th>Type</th>\n",
       "    </tr>\n",
       "  </thead>\n",
       "  <tbody>\n",
       "    <tr>\n",
       "      <th>0</th>\n",
       "      <td>Jalsa</td>\n",
       "      <td>Yes</td>\n",
       "      <td>Yes</td>\n",
       "      <td>4.1</td>\n",
       "      <td>775</td>\n",
       "      <td>Banashankari</td>\n",
       "      <td>Casual Dining</td>\n",
       "      <td>North Indian, Mughlai, Chinese</td>\n",
       "      <td>800.0</td>\n",
       "      <td>Buffet</td>\n",
       "    </tr>\n",
       "    <tr>\n",
       "      <th>1</th>\n",
       "      <td>Spice Elephant</td>\n",
       "      <td>Yes</td>\n",
       "      <td>No</td>\n",
       "      <td>4.1</td>\n",
       "      <td>787</td>\n",
       "      <td>Banashankari</td>\n",
       "      <td>Casual Dining</td>\n",
       "      <td>Chinese, North Indian, Thai</td>\n",
       "      <td>800.0</td>\n",
       "      <td>Buffet</td>\n",
       "    </tr>\n",
       "    <tr>\n",
       "      <th>2</th>\n",
       "      <td>San Churro Cafe</td>\n",
       "      <td>Yes</td>\n",
       "      <td>No</td>\n",
       "      <td>3.8</td>\n",
       "      <td>918</td>\n",
       "      <td>Banashankari</td>\n",
       "      <td>others</td>\n",
       "      <td>Cafe, Mexican, Italian</td>\n",
       "      <td>800.0</td>\n",
       "      <td>Buffet</td>\n",
       "    </tr>\n",
       "    <tr>\n",
       "      <th>3</th>\n",
       "      <td>Addhuri Udupi Bhojana</td>\n",
       "      <td>No</td>\n",
       "      <td>No</td>\n",
       "      <td>3.7</td>\n",
       "      <td>88</td>\n",
       "      <td>Banashankari</td>\n",
       "      <td>Quick Bites</td>\n",
       "      <td>South Indian, North Indian</td>\n",
       "      <td>300.0</td>\n",
       "      <td>Buffet</td>\n",
       "    </tr>\n",
       "    <tr>\n",
       "      <th>4</th>\n",
       "      <td>Grand Village</td>\n",
       "      <td>No</td>\n",
       "      <td>No</td>\n",
       "      <td>3.8</td>\n",
       "      <td>166</td>\n",
       "      <td>Basavanagudi</td>\n",
       "      <td>Casual Dining</td>\n",
       "      <td>North Indian, Rajasthani</td>\n",
       "      <td>600.0</td>\n",
       "      <td>Buffet</td>\n",
       "    </tr>\n",
       "  </tbody>\n",
       "</table>\n",
       "</div>"
      ],
      "text/plain": [
       "                    name online_order book_table  rate  votes      location  \\\n",
       "0                  Jalsa          Yes        Yes   4.1    775  Banashankari   \n",
       "1         Spice Elephant          Yes         No   4.1    787  Banashankari   \n",
       "2        San Churro Cafe          Yes         No   3.8    918  Banashankari   \n",
       "3  Addhuri Udupi Bhojana           No         No   3.7     88  Banashankari   \n",
       "4          Grand Village           No         No   3.8    166  Basavanagudi   \n",
       "\n",
       "       rest_type                        cuisines  cost2plates    Type  \n",
       "0  Casual Dining  North Indian, Mughlai, Chinese        800.0  Buffet  \n",
       "1  Casual Dining     Chinese, North Indian, Thai        800.0  Buffet  \n",
       "2         others          Cafe, Mexican, Italian        800.0  Buffet  \n",
       "3    Quick Bites      South Indian, North Indian        300.0  Buffet  \n",
       "4  Casual Dining        North Indian, Rajasthani        600.0  Buffet  "
      ]
     },
     "execution_count": 29,
     "metadata": {},
     "output_type": "execute_result"
    }
   ],
   "source": [
    "df.head()"
   ]
  },
  {
   "cell_type": "code",
   "execution_count": 30,
   "id": "d2d8ca0a",
   "metadata": {},
   "outputs": [
    {
     "data": {
      "text/plain": [
       "BTM                      5056\n",
       "HSR                      2494\n",
       "Koramangala 5th Block    2479\n",
       "JP Nagar                 2218\n",
       "Whitefield               2105\n",
       "                         ... \n",
       "West Bangalore              6\n",
       "Yelahanka                   5\n",
       "Jakkur                      3\n",
       "Rajarajeshwari Nagar        2\n",
       "Peenya                      1\n",
       "Name: location, Length: 93, dtype: int64"
      ]
     },
     "execution_count": 30,
     "metadata": {},
     "output_type": "execute_result"
    }
   ],
   "source": [
    "df['location'].value_counts()"
   ]
  },
  {
   "cell_type": "code",
   "execution_count": 31,
   "id": "66c9bfe3",
   "metadata": {},
   "outputs": [
    {
     "data": {
      "text/plain": [
       "others                   8007\n",
       "BTM                      5056\n",
       "HSR                      2494\n",
       "Koramangala 5th Block    2479\n",
       "JP Nagar                 2218\n",
       "Whitefield               2105\n",
       "Indiranagar              2026\n",
       "Jayanagar                1916\n",
       "Marathahalli             1805\n",
       "Bannerghatta Road        1609\n",
       "Bellandur                1268\n",
       "Electronic City          1246\n",
       "Koramangala 1st Block    1236\n",
       "Brigade Road             1210\n",
       "Koramangala 7th Block    1174\n",
       "Koramangala 6th Block    1127\n",
       "Sarjapur Road            1047\n",
       "Koramangala 4th Block    1017\n",
       "Ulsoor                   1011\n",
       "Banashankari              902\n",
       "MG Road                   893\n",
       "Kalyan Nagar              841\n",
       "Richmond Road             803\n",
       "Malleshwaram              721\n",
       "Frazer Town               714\n",
       "Basavanagudi              684\n",
       "Residency Road            671\n",
       "Brookefield               656\n",
       "New BEL Road              644\n",
       "Banaswadi                 640\n",
       "Kammanahalli              639\n",
       "Rajajinagar               591\n",
       "Church Street             566\n",
       "Lavelle Road              518\n",
       "Shanti Nagar              508\n",
       "Name: location, dtype: int64"
      ]
     },
     "execution_count": 31,
     "metadata": {},
     "output_type": "execute_result"
    }
   ],
   "source": [
    "location = df['location'].value_counts(ascending=False)\n",
    "location_lessthan500= location[location<500]\n",
    "\n",
    "def location(value):\n",
    "    if(value in location_lessthan500):\n",
    "        return 'others'\n",
    "    else:\n",
    "        return value\n",
    "df['location']=df['location'].apply(location)\n",
    "df['location'].value_counts()"
   ]
  },
  {
   "cell_type": "code",
   "execution_count": 32,
   "id": "a8d0253e",
   "metadata": {},
   "outputs": [
    {
     "data": {
      "text/html": [
       "<div>\n",
       "<style scoped>\n",
       "    .dataframe tbody tr th:only-of-type {\n",
       "        vertical-align: middle;\n",
       "    }\n",
       "\n",
       "    .dataframe tbody tr th {\n",
       "        vertical-align: top;\n",
       "    }\n",
       "\n",
       "    .dataframe thead th {\n",
       "        text-align: right;\n",
       "    }\n",
       "</style>\n",
       "<table border=\"1\" class=\"dataframe\">\n",
       "  <thead>\n",
       "    <tr style=\"text-align: right;\">\n",
       "      <th></th>\n",
       "      <th>name</th>\n",
       "      <th>online_order</th>\n",
       "      <th>book_table</th>\n",
       "      <th>rate</th>\n",
       "      <th>votes</th>\n",
       "      <th>location</th>\n",
       "      <th>rest_type</th>\n",
       "      <th>cuisines</th>\n",
       "      <th>cost2plates</th>\n",
       "      <th>Type</th>\n",
       "    </tr>\n",
       "  </thead>\n",
       "  <tbody>\n",
       "    <tr>\n",
       "      <th>0</th>\n",
       "      <td>Jalsa</td>\n",
       "      <td>Yes</td>\n",
       "      <td>Yes</td>\n",
       "      <td>4.1</td>\n",
       "      <td>775</td>\n",
       "      <td>Banashankari</td>\n",
       "      <td>Casual Dining</td>\n",
       "      <td>North Indian, Mughlai, Chinese</td>\n",
       "      <td>800.0</td>\n",
       "      <td>Buffet</td>\n",
       "    </tr>\n",
       "    <tr>\n",
       "      <th>1</th>\n",
       "      <td>Spice Elephant</td>\n",
       "      <td>Yes</td>\n",
       "      <td>No</td>\n",
       "      <td>4.1</td>\n",
       "      <td>787</td>\n",
       "      <td>Banashankari</td>\n",
       "      <td>Casual Dining</td>\n",
       "      <td>Chinese, North Indian, Thai</td>\n",
       "      <td>800.0</td>\n",
       "      <td>Buffet</td>\n",
       "    </tr>\n",
       "    <tr>\n",
       "      <th>2</th>\n",
       "      <td>San Churro Cafe</td>\n",
       "      <td>Yes</td>\n",
       "      <td>No</td>\n",
       "      <td>3.8</td>\n",
       "      <td>918</td>\n",
       "      <td>Banashankari</td>\n",
       "      <td>others</td>\n",
       "      <td>Cafe, Mexican, Italian</td>\n",
       "      <td>800.0</td>\n",
       "      <td>Buffet</td>\n",
       "    </tr>\n",
       "    <tr>\n",
       "      <th>3</th>\n",
       "      <td>Addhuri Udupi Bhojana</td>\n",
       "      <td>No</td>\n",
       "      <td>No</td>\n",
       "      <td>3.7</td>\n",
       "      <td>88</td>\n",
       "      <td>Banashankari</td>\n",
       "      <td>Quick Bites</td>\n",
       "      <td>South Indian, North Indian</td>\n",
       "      <td>300.0</td>\n",
       "      <td>Buffet</td>\n",
       "    </tr>\n",
       "    <tr>\n",
       "      <th>4</th>\n",
       "      <td>Grand Village</td>\n",
       "      <td>No</td>\n",
       "      <td>No</td>\n",
       "      <td>3.8</td>\n",
       "      <td>166</td>\n",
       "      <td>Basavanagudi</td>\n",
       "      <td>Casual Dining</td>\n",
       "      <td>North Indian, Rajasthani</td>\n",
       "      <td>600.0</td>\n",
       "      <td>Buffet</td>\n",
       "    </tr>\n",
       "  </tbody>\n",
       "</table>\n",
       "</div>"
      ],
      "text/plain": [
       "                    name online_order book_table  rate  votes      location  \\\n",
       "0                  Jalsa          Yes        Yes   4.1    775  Banashankari   \n",
       "1         Spice Elephant          Yes         No   4.1    787  Banashankari   \n",
       "2        San Churro Cafe          Yes         No   3.8    918  Banashankari   \n",
       "3  Addhuri Udupi Bhojana           No         No   3.7     88  Banashankari   \n",
       "4          Grand Village           No         No   3.8    166  Basavanagudi   \n",
       "\n",
       "       rest_type                        cuisines  cost2plates    Type  \n",
       "0  Casual Dining  North Indian, Mughlai, Chinese        800.0  Buffet  \n",
       "1  Casual Dining     Chinese, North Indian, Thai        800.0  Buffet  \n",
       "2         others          Cafe, Mexican, Italian        800.0  Buffet  \n",
       "3    Quick Bites      South Indian, North Indian        300.0  Buffet  \n",
       "4  Casual Dining        North Indian, Rajasthani        600.0  Buffet  "
      ]
     },
     "execution_count": 32,
     "metadata": {},
     "output_type": "execute_result"
    }
   ],
   "source": [
    "df.head()"
   ]
  },
  {
   "cell_type": "code",
   "execution_count": 33,
   "id": "0148beed",
   "metadata": {},
   "outputs": [
    {
     "data": {
      "text/plain": [
       "North Indian                                2852\n",
       "North Indian, Chinese                       2351\n",
       "South Indian                                1820\n",
       "Biryani                                      903\n",
       "Bakery, Desserts                             898\n",
       "                                            ... \n",
       "North Indian, Chinese, Oriya, Mithai           1\n",
       "Beverages, Burger                              1\n",
       "North Indian, Mughlai, Lucknowi                1\n",
       "Continental, Thai, North Indian, Chinese       1\n",
       "North Indian, Chinese, Arabian, Momos          1\n",
       "Name: cuisines, Length: 2704, dtype: int64"
      ]
     },
     "execution_count": 33,
     "metadata": {},
     "output_type": "execute_result"
    }
   ],
   "source": [
    "df['cuisines'].value_counts()"
   ]
  },
  {
   "cell_type": "code",
   "execution_count": 34,
   "id": "6fa908b7",
   "metadata": {},
   "outputs": [
    {
     "data": {
      "text/plain": [
       "others                                 26159\n",
       "North Indian                            2852\n",
       "North Indian, Chinese                   2351\n",
       "South Indian                            1820\n",
       "Biryani                                  903\n",
       "                                       ...  \n",
       "South Indian, Chinese, North Indian      105\n",
       "North Indian, Mughlai, Chinese           104\n",
       "South Indian, Fast Food                  104\n",
       "Italian, Pizza                           102\n",
       "North Indian, Chinese, Seafood           102\n",
       "Name: cuisines, Length: 70, dtype: int64"
      ]
     },
     "execution_count": 34,
     "metadata": {},
     "output_type": "execute_result"
    }
   ],
   "source": [
    "cuisines= df['cuisines'].value_counts(ascending=False)\n",
    "cuisines_lessthan100 = cuisines[cuisines<100]\n",
    "\n",
    "def cuisines(value):\n",
    "    if(value in cuisines_lessthan100):\n",
    "        return 'others'\n",
    "    else:\n",
    "        return value\n",
    "    \n",
    "df['cuisines']= df['cuisines'].apply(cuisines)\n",
    "df['cuisines'].value_counts()"
   ]
  },
  {
   "cell_type": "code",
   "execution_count": 35,
   "id": "31d513fb",
   "metadata": {},
   "outputs": [
    {
     "data": {
      "text/plain": [
       "Delivery              25579\n",
       "Dine-out              17562\n",
       "Desserts               3559\n",
       "Cafes                  1703\n",
       "Drinks & nightlife     1084\n",
       "Buffet                  869\n",
       "Pubs and bars           686\n",
       "Name: Type, dtype: int64"
      ]
     },
     "execution_count": 35,
     "metadata": {},
     "output_type": "execute_result"
    }
   ],
   "source": [
    "df['Type'].value_counts()"
   ]
  },
  {
   "cell_type": "code",
   "execution_count": 36,
   "id": "29948170",
   "metadata": {
    "scrolled": true
   },
   "outputs": [
    {
     "data": {
      "text/html": [
       "<div>\n",
       "<style scoped>\n",
       "    .dataframe tbody tr th:only-of-type {\n",
       "        vertical-align: middle;\n",
       "    }\n",
       "\n",
       "    .dataframe tbody tr th {\n",
       "        vertical-align: top;\n",
       "    }\n",
       "\n",
       "    .dataframe thead th {\n",
       "        text-align: right;\n",
       "    }\n",
       "</style>\n",
       "<table border=\"1\" class=\"dataframe\">\n",
       "  <thead>\n",
       "    <tr style=\"text-align: right;\">\n",
       "      <th></th>\n",
       "      <th>name</th>\n",
       "      <th>online_order</th>\n",
       "      <th>book_table</th>\n",
       "      <th>rate</th>\n",
       "      <th>votes</th>\n",
       "      <th>location</th>\n",
       "      <th>rest_type</th>\n",
       "      <th>cuisines</th>\n",
       "      <th>cost2plates</th>\n",
       "      <th>Type</th>\n",
       "    </tr>\n",
       "  </thead>\n",
       "  <tbody>\n",
       "    <tr>\n",
       "      <th>0</th>\n",
       "      <td>Jalsa</td>\n",
       "      <td>Yes</td>\n",
       "      <td>Yes</td>\n",
       "      <td>4.1</td>\n",
       "      <td>775</td>\n",
       "      <td>Banashankari</td>\n",
       "      <td>Casual Dining</td>\n",
       "      <td>North Indian, Mughlai, Chinese</td>\n",
       "      <td>800.0</td>\n",
       "      <td>Buffet</td>\n",
       "    </tr>\n",
       "    <tr>\n",
       "      <th>1</th>\n",
       "      <td>Spice Elephant</td>\n",
       "      <td>Yes</td>\n",
       "      <td>No</td>\n",
       "      <td>4.1</td>\n",
       "      <td>787</td>\n",
       "      <td>Banashankari</td>\n",
       "      <td>Casual Dining</td>\n",
       "      <td>others</td>\n",
       "      <td>800.0</td>\n",
       "      <td>Buffet</td>\n",
       "    </tr>\n",
       "    <tr>\n",
       "      <th>2</th>\n",
       "      <td>San Churro Cafe</td>\n",
       "      <td>Yes</td>\n",
       "      <td>No</td>\n",
       "      <td>3.8</td>\n",
       "      <td>918</td>\n",
       "      <td>Banashankari</td>\n",
       "      <td>others</td>\n",
       "      <td>others</td>\n",
       "      <td>800.0</td>\n",
       "      <td>Buffet</td>\n",
       "    </tr>\n",
       "    <tr>\n",
       "      <th>3</th>\n",
       "      <td>Addhuri Udupi Bhojana</td>\n",
       "      <td>No</td>\n",
       "      <td>No</td>\n",
       "      <td>3.7</td>\n",
       "      <td>88</td>\n",
       "      <td>Banashankari</td>\n",
       "      <td>Quick Bites</td>\n",
       "      <td>South Indian, North Indian</td>\n",
       "      <td>300.0</td>\n",
       "      <td>Buffet</td>\n",
       "    </tr>\n",
       "    <tr>\n",
       "      <th>4</th>\n",
       "      <td>Grand Village</td>\n",
       "      <td>No</td>\n",
       "      <td>No</td>\n",
       "      <td>3.8</td>\n",
       "      <td>166</td>\n",
       "      <td>Basavanagudi</td>\n",
       "      <td>Casual Dining</td>\n",
       "      <td>others</td>\n",
       "      <td>600.0</td>\n",
       "      <td>Buffet</td>\n",
       "    </tr>\n",
       "  </tbody>\n",
       "</table>\n",
       "</div>"
      ],
      "text/plain": [
       "                    name online_order book_table  rate  votes      location  \\\n",
       "0                  Jalsa          Yes        Yes   4.1    775  Banashankari   \n",
       "1         Spice Elephant          Yes         No   4.1    787  Banashankari   \n",
       "2        San Churro Cafe          Yes         No   3.8    918  Banashankari   \n",
       "3  Addhuri Udupi Bhojana           No         No   3.7     88  Banashankari   \n",
       "4          Grand Village           No         No   3.8    166  Basavanagudi   \n",
       "\n",
       "       rest_type                        cuisines  cost2plates    Type  \n",
       "0  Casual Dining  North Indian, Mughlai, Chinese        800.0  Buffet  \n",
       "1  Casual Dining                          others        800.0  Buffet  \n",
       "2         others                          others        800.0  Buffet  \n",
       "3    Quick Bites      South Indian, North Indian        300.0  Buffet  \n",
       "4  Casual Dining                          others        600.0  Buffet  "
      ]
     },
     "execution_count": 36,
     "metadata": {},
     "output_type": "execute_result"
    }
   ],
   "source": [
    "df.head()"
   ]
  },
  {
   "cell_type": "markdown",
   "id": "3badb805",
   "metadata": {},
   "source": [
    "Data Visualisation"
   ]
  },
  {
   "cell_type": "code",
   "execution_count": 37,
   "id": "0f0604ef",
   "metadata": {
    "scrolled": true
   },
   "outputs": [
    {
     "data": {
      "text/plain": [
       "<Axes: xlabel='online_order', ylabel='rate'>"
      ]
     },
     "execution_count": 37,
     "metadata": {},
     "output_type": "execute_result"
    },
    {
     "data": {
      "image/png": "[encoded data removed]",
      "text/plain": [
       "<Figure size 600x600 with 1 Axes>"
      ]
     },
     "metadata": {},
     "output_type": "display_data"
    }
   ],
   "source": [
    "plt.figure(figsize = (6,6))\n",
    "sns.boxplot(x = 'online_order', y = 'rate', data = df)"
   ]
  },
  {
   "cell_type": "markdown",
   "id": "87bb5f92",
   "metadata": {},
   "source": [
    "the restraunt which has online_order has got maximum rate "
   ]
  },
  {
   "cell_type": "code",
   "execution_count": 38,
   "id": "831d9c74",
   "metadata": {},
   "outputs": [
    {
     "data": {
      "text/plain": [
       "<Axes: xlabel='book_table', ylabel='rate'>"
      ]
     },
     "execution_count": 38,
     "metadata": {},
     "output_type": "execute_result"
    },
    {
     "data": {
      "image/png": "[encoded data removed]",
      "text/plain": [
       "<Figure size 600x600 with 1 Axes>"
      ]
     },
     "metadata": {},
     "output_type": "display_data"
    }
   ],
   "source": [
    "plt.figure(figsize = (6,6))\n",
    "sns.boxplot(x = 'book_table', y = 'rate', data = df)"
   ]
  },
  {
   "cell_type": "markdown",
   "id": "b233dd46",
   "metadata": {},
   "source": [
    "there is a huge difference b/w these two i should open a restraunt and provide book_table facility."
   ]
  },
  {
   "cell_type": "code",
   "execution_count": 39,
   "id": "1a09cc6f",
   "metadata": {},
   "outputs": [
    {
     "data": {
      "text/html": [
       "<div>\n",
       "<style scoped>\n",
       "    .dataframe tbody tr th:only-of-type {\n",
       "        vertical-align: middle;\n",
       "    }\n",
       "\n",
       "    .dataframe tbody tr th {\n",
       "        vertical-align: top;\n",
       "    }\n",
       "\n",
       "    .dataframe thead th {\n",
       "        text-align: right;\n",
       "    }\n",
       "</style>\n",
       "<table border=\"1\" class=\"dataframe\">\n",
       "  <thead>\n",
       "    <tr style=\"text-align: right;\">\n",
       "      <th></th>\n",
       "      <th>name</th>\n",
       "      <th>online_order</th>\n",
       "      <th>book_table</th>\n",
       "      <th>rate</th>\n",
       "      <th>votes</th>\n",
       "      <th>location</th>\n",
       "      <th>rest_type</th>\n",
       "      <th>cuisines</th>\n",
       "      <th>cost2plates</th>\n",
       "      <th>Type</th>\n",
       "    </tr>\n",
       "  </thead>\n",
       "  <tbody>\n",
       "    <tr>\n",
       "      <th>0</th>\n",
       "      <td>Jalsa</td>\n",
       "      <td>Yes</td>\n",
       "      <td>Yes</td>\n",
       "      <td>4.1</td>\n",
       "      <td>775</td>\n",
       "      <td>Banashankari</td>\n",
       "      <td>Casual Dining</td>\n",
       "      <td>North Indian, Mughlai, Chinese</td>\n",
       "      <td>800.0</td>\n",
       "      <td>Buffet</td>\n",
       "    </tr>\n",
       "    <tr>\n",
       "      <th>1</th>\n",
       "      <td>Spice Elephant</td>\n",
       "      <td>Yes</td>\n",
       "      <td>No</td>\n",
       "      <td>4.1</td>\n",
       "      <td>787</td>\n",
       "      <td>Banashankari</td>\n",
       "      <td>Casual Dining</td>\n",
       "      <td>others</td>\n",
       "      <td>800.0</td>\n",
       "      <td>Buffet</td>\n",
       "    </tr>\n",
       "    <tr>\n",
       "      <th>2</th>\n",
       "      <td>San Churro Cafe</td>\n",
       "      <td>Yes</td>\n",
       "      <td>No</td>\n",
       "      <td>3.8</td>\n",
       "      <td>918</td>\n",
       "      <td>Banashankari</td>\n",
       "      <td>others</td>\n",
       "      <td>others</td>\n",
       "      <td>800.0</td>\n",
       "      <td>Buffet</td>\n",
       "    </tr>\n",
       "    <tr>\n",
       "      <th>3</th>\n",
       "      <td>Addhuri Udupi Bhojana</td>\n",
       "      <td>No</td>\n",
       "      <td>No</td>\n",
       "      <td>3.7</td>\n",
       "      <td>88</td>\n",
       "      <td>Banashankari</td>\n",
       "      <td>Quick Bites</td>\n",
       "      <td>South Indian, North Indian</td>\n",
       "      <td>300.0</td>\n",
       "      <td>Buffet</td>\n",
       "    </tr>\n",
       "    <tr>\n",
       "      <th>4</th>\n",
       "      <td>Grand Village</td>\n",
       "      <td>No</td>\n",
       "      <td>No</td>\n",
       "      <td>3.8</td>\n",
       "      <td>166</td>\n",
       "      <td>Basavanagudi</td>\n",
       "      <td>Casual Dining</td>\n",
       "      <td>others</td>\n",
       "      <td>600.0</td>\n",
       "      <td>Buffet</td>\n",
       "    </tr>\n",
       "  </tbody>\n",
       "</table>\n",
       "</div>"
      ],
      "text/plain": [
       "                    name online_order book_table  rate  votes      location  \\\n",
       "0                  Jalsa          Yes        Yes   4.1    775  Banashankari   \n",
       "1         Spice Elephant          Yes         No   4.1    787  Banashankari   \n",
       "2        San Churro Cafe          Yes         No   3.8    918  Banashankari   \n",
       "3  Addhuri Udupi Bhojana           No         No   3.7     88  Banashankari   \n",
       "4          Grand Village           No         No   3.8    166  Basavanagudi   \n",
       "\n",
       "       rest_type                        cuisines  cost2plates    Type  \n",
       "0  Casual Dining  North Indian, Mughlai, Chinese        800.0  Buffet  \n",
       "1  Casual Dining                          others        800.0  Buffet  \n",
       "2         others                          others        800.0  Buffet  \n",
       "3    Quick Bites      South Indian, North Indian        300.0  Buffet  \n",
       "4  Casual Dining                          others        600.0  Buffet  "
      ]
     },
     "execution_count": 39,
     "metadata": {},
     "output_type": "execute_result"
    }
   ],
   "source": [
    "df.head()"
   ]
  },
  {
   "cell_type": "code",
   "execution_count": 40,
   "id": "ca7be657",
   "metadata": {},
   "outputs": [
    {
     "data": {
      "text/plain": [
       "<Axes: xlabel='Type', ylabel='rate'>"
      ]
     },
     "execution_count": 40,
     "metadata": {},
     "output_type": "execute_result"
    },
    {
     "data": {
      "image/png": "[encoded data removed]",
      "text/plain": [
       "<Figure size 1400x800 with 1 Axes>"
      ]
     },
     "metadata": {},
     "output_type": "display_data"
    }
   ],
   "source": [
    "plt.figure(figsize = (14, 8))\n",
    "sns.boxplot(x = 'Type', y = 'rate', data = df)"
   ]
  },
  {
   "cell_type": "code",
   "execution_count": null,
   "id": "09d1f25b",
   "metadata": {},
   "outputs": [],
   "source": []
  },
  {
   "cell_type": "code",
   "execution_count": null,
   "id": "44bcd0f9",
   "metadata": {},
   "outputs": [],
   "source": []
  }
 ],
 "metadata": {
  "kernelspec": {
   "display_name": "Python 3 (ipykernel)",
   "language": "python",
   "name": "python3"
  },
  "language_info": {
   "codemirror_mode": {
    "name": "ipython",
    "version": 3
   },
   "file_extension": ".py",
   "mimetype": "text/x-python",
   "name": "python",
   "nbconvert_exporter": "python",
   "pygments_lexer": "ipython3",
   "version": "3.11.4"
  }
 },
 "nbformat": 4,
 "nbformat_minor": 5
}
